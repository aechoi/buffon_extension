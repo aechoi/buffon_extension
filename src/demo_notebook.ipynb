{
 "cells": [
  {
   "cell_type": "markdown",
   "metadata": {},
   "source": []
  },
  {
   "cell_type": "code",
   "execution_count": null,
   "metadata": {},
   "outputs": [],
   "source": [
    "%matplotlib Widget\n",
    "\n",
    "import sampling\n",
    "\n",
    "import importlib\n",
    "import numpy as np\n",
    "import matplotlib.pyplot as plt\n",
    "from tqdm import tqdm\n",
    "\n",
    "plt.style.use(\"bmh\")\n",
    "\n",
    "tau = np.pi*2"
   ]
  },
  {
   "cell_type": "code",
   "execution_count": null,
   "metadata": {},
   "outputs": [],
   "source": [
    "importlib.reload(sampling)\n",
    "\n",
    "samples = 100000\n",
    "dims = np.arange(1, 100, 10)\n",
    "lengths = np.linspace(0, 10, 100)\n",
    "hyperplanes = 1\n",
    "\n",
    "fig, ax = plt.subplots()\n",
    "for idx, dim in enumerate(dims):\n",
    "    xs = np.random.random((samples, dim))\n",
    "    hypersphere = sampling.get_samples_gaussian(samples, dim)\n",
    "    pass_rates = []\n",
    "    for l in tqdm(lengths):\n",
    "        x1s = xs + l*hypersphere\n",
    "        intersect = (np.sum(np.abs(np.floor(x1s[:,:hyperplanes])), axis=1)>=1)*1\n",
    "        pass_rates.append(np.sum(intersect)/samples)\n",
    "    ax.plot(lengths, pass_rates, color=(idx/(len(dims)-1),0,0))"
   ]
  },
  {
   "cell_type": "code",
   "execution_count": null,
   "metadata": {},
   "outputs": [],
   "source": [
    "importlib.reload(sampling)\n",
    "\n",
    "samples = 100000\n",
    "dims = np.arange(1, 4)\n",
    "lengths = np.linspace(0, 3, 100)\n",
    "hyperplanes = 1\n",
    "\n",
    "fig, ax = plt.subplots()\n",
    "for idx, dim in enumerate(dims):\n",
    "    xs = np.random.random((samples, dim))\n",
    "    hypersphere = sampling.get_samples_gaussian(samples, dim)\n",
    "    \n",
    "    pass_rates = []\n",
    "    for l in tqdm(lengths):\n",
    "        x1s = xs + l*hypersphere\n",
    "        intersect = (np.sum(np.abs(np.floor(x1s[:,:hyperplanes])), axis=1)>=1)*1\n",
    "        pass_rates.append(np.sum(intersect)/samples)\n",
    "\n",
    "    ax.plot(lengths, pass_rates, color=(idx/(len(dims)-1),0,0))\n",
    "\n",
    "ax.plot(lengths[lengths<1], 4*lengths[lengths<1]/tau, \"--\")\n",
    "ax.plot(lengths, 4/tau*(np.arccos(1/lengths) + lengths - (lengths**2 - 1)**0.5), \"--\")\n"
   ]
  },
  {
   "cell_type": "code",
   "execution_count": null,
   "metadata": {},
   "outputs": [],
   "source": [
    "importlib.reload(sampling)\n",
    "hypersphere = sampling.get_samples_gaussian(n_samples=10000, n_dims=10)\n",
    "spherical_coords = sampling.cartesian_to_spherical(hypersphere)\n",
    "sampling.plot_polar_histograms(spherical_coords)\n",
    "cartesian_coords = sampling.spherical_to_cartesian(spherical_coords)\n",
    "sampling.plot_cartesian_histograms(cartesian_coords)\n",
    "# ax = plt.figure().add_subplot(projection=\"3d\")\n",
    "# ax.plot(*cartesian_coords.T, \".\")"
   ]
  }
 ],
 "metadata": {
  "kernelspec": {
   "display_name": "Python 3",
   "language": "python",
   "name": "python3"
  },
  "language_info": {
   "codemirror_mode": {
    "name": "ipython",
    "version": 3
   },
   "file_extension": ".py",
   "mimetype": "text/x-python",
   "name": "python",
   "nbconvert_exporter": "python",
   "pygments_lexer": "ipython3",
   "version": "3.10.5"
  },
  "orig_nbformat": 4
 },
 "nbformat": 4,
 "nbformat_minor": 2
}
